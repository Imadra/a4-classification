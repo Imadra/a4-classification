{
 "cells": [
  {
   "cell_type": "code",
   "execution_count": 9,
   "metadata": {},
   "outputs": [],
   "source": [
    "import numpy as np\n",
    "from sklearn.metrics import confusion_matrix, accuracy_score\n",
    "import NN_Lib\n",
    "from scipy.special import expit\n",
    "\n",
    "in_dim = 785\n",
    "hidden_dim = 100\n",
    "out_dim = 10\n",
    "num_epochs = 2\n",
    "eta = 0.1 # Learning rate. You might try different rates (e.g. 0.001, 0.01, 0.1) to maximize the accuracy\n",
    "\n",
    "def load_data(file_name):\n",
    "    data_file = np.loadtxt(file_name, delimiter=',')\n",
    "    dataset = np.insert(data_file[:, np.arange(1, in_dim)]/255, 0, 1, axis=1)\n",
    "    data_labels = data_file[:, 0]\n",
    "    return dataset, data_labels"
   ]
  },
  {
   "cell_type": "code",
   "execution_count": 13,
   "metadata": {},
   "outputs": [],
   "source": [
    "# Initialize weight matrices with random weights\n",
    "weight_1 = np.random.uniform(-0.05,0.05,(in_dim,hidden_dim)) # (785, 100)\n",
    "weight_2 = np.random.uniform(-0.05,0.05,(hidden_dim+1,out_dim)) # (101, 10)\n",
    "# matrix to store the activation h1...hk \n",
    "hl_input = np.zeros((1,hidden_dim+1)) # 1 101: [1 0 0 ...]\n",
    "hl_input[0,0] = 1"
   ]
  },
  {
   "cell_type": "code",
   "execution_count": 6,
   "metadata": {},
   "outputs": [
    {
     "name": "stdout",
     "output_type": "stream",
     "text": [
      "\n",
      "Loading Training Set\n",
      "\n",
      "Loading Test Set\n",
      "\n"
     ]
    }
   ],
   "source": [
    "# Load Training and Test Sets :\n",
    "print(\"\\nLoading Training Set\")\n",
    "train_data, train_labels = load_data('data/train.csv')\n",
    "print(\"\\nLoading Test Set\\n\")\n",
    "test_data, test_labels = load_data('data/test.csv')\n",
    "\n",
    "arr_train_acc = []\n",
    "arr_test_acc = []"
   ]
  },
  {
   "cell_type": "code",
   "execution_count": 32,
   "metadata": {},
   "outputs": [
    {
     "name": "stdout",
     "output_type": "stream",
     "text": [
      "Epoch 1 :\tTraining Set Accuracy = 0.11236666666666667\n",
      "\t\tTest Set Accuracy = 0.1135\n",
      "Epoch 2 :\tTraining Set Accuracy = 0.11236666666666667\n",
      "\t\tTest Set Accuracy = 0.1135\n",
      "Epoch 3 :\tTraining Set Accuracy = 0.11236666666666667\n",
      "\t\tTest Set Accuracy = 0.1135\n",
      "Epoch 4 :\tTraining Set Accuracy = 0.11236666666666667\n",
      "\t\tTest Set Accuracy = 0.1135\n",
      "Epoch 5 :\tTraining Set Accuracy = 0.11236666666666667\n",
      "\t\tTest Set Accuracy = 0.1135\n"
     ]
    }
   ],
   "source": [
    "for i in range(1, num_epochs+1):\n",
    "    \n",
    "    pred_train_labels = get_predictions(train_data, weight_1, weight_2)  # Test network on training set and get training accuracy\n",
    "    curr_accu = accuracy_score(train_labels, pred_train_labels)\n",
    "\n",
    "    print(\"Epoch \" + str(i) + \" :\\tTraining Set Accuracy = \" + str(curr_accu))\n",
    "\n",
    "    pred_test_labels = get_predictions(test_data, weight_1, weight_2)  # Test network on test set and get accuracy on test set\n",
    "    test_accu = accuracy_score(test_labels, pred_test_labels)\n",
    "    print(\"\\t\\tTest Set Accuracy = \" + str(test_accu))\n",
    "\n",
    "    weight_1, weight_2 = train(train_data, train_labels, weight_1, weight_2)    # Train the network\n",
    "\n",
    "    arr_train_acc.append(curr_accu)\n",
    "    arr_test_acc.append(test_accu)"
   ]
  },
  {
   "cell_type": "code",
   "execution_count": 61,
   "metadata": {},
   "outputs": [
    {
     "name": "stdout",
     "output_type": "stream",
     "text": [
      "(785, 100)\n",
      "(1, 100)\n",
      "(101, 10)\n"
     ]
    },
    {
     "ename": "ValueError",
     "evalue": "shapes (1,785) and (101,10) not aligned: 785 (dim 1) != 101 (dim 0)",
     "output_type": "error",
     "traceback": [
      "\u001b[0;31m---------------------------------------------------------------------------\u001b[0m",
      "\u001b[0;31mValueError\u001b[0m                                Traceback (most recent call last)",
      "\u001b[0;32m<ipython-input-61-af12d9e883bc>\u001b[0m in \u001b[0;36m<module>\u001b[0;34m\u001b[0m\n\u001b[1;32m     46\u001b[0m \u001b[0;34m\u001b[0m\u001b[0m\n\u001b[1;32m     47\u001b[0m     \u001b[0;32mreturn\u001b[0m \u001b[0mweight_i2h\u001b[0m\u001b[0;34m,\u001b[0m \u001b[0mweight_h2o\u001b[0m\u001b[0;34m\u001b[0m\u001b[0;34m\u001b[0m\u001b[0m\n\u001b[0;32m---> 48\u001b[0;31m \u001b[0mweight_update\u001b[0m\u001b[0;34m(\u001b[0m\u001b[0mtrain_data\u001b[0m\u001b[0;34m[\u001b[0m\u001b[0;36m0\u001b[0m\u001b[0;34m,\u001b[0m \u001b[0;34m:\u001b[0m\u001b[0;34m]\u001b[0m\u001b[0;34m,\u001b[0m \u001b[0mtrain_labels\u001b[0m\u001b[0;34m[\u001b[0m\u001b[0;36m0\u001b[0m\u001b[0;34m]\u001b[0m\u001b[0;34m,\u001b[0m \u001b[0mweight_1\u001b[0m\u001b[0;34m,\u001b[0m \u001b[0mweight_2\u001b[0m\u001b[0;34m)\u001b[0m\u001b[0;34m\u001b[0m\u001b[0;34m\u001b[0m\u001b[0m\n\u001b[0m",
      "\u001b[0;32m<ipython-input-61-af12d9e883bc>\u001b[0m in \u001b[0;36mweight_update\u001b[0;34m(feature, label, weight_i2h, weight_h2o)\u001b[0m\n\u001b[1;32m     36\u001b[0m     \u001b[0mnew_weight_h20\u001b[0m \u001b[0;34m=\u001b[0m \u001b[0mweight_h2o\u001b[0m \u001b[0;34m-\u001b[0m \u001b[0meta\u001b[0m \u001b[0;34m*\u001b[0m \u001b[0mnp\u001b[0m\u001b[0;34m.\u001b[0m\u001b[0mdot\u001b[0m\u001b[0;34m(\u001b[0m\u001b[0mhl_input\u001b[0m\u001b[0;34m.\u001b[0m\u001b[0mreshape\u001b[0m\u001b[0;34m(\u001b[0m\u001b[0mhidden_dim\u001b[0m \u001b[0;34m+\u001b[0m \u001b[0;36m1\u001b[0m\u001b[0;34m,\u001b[0m \u001b[0;36m1\u001b[0m\u001b[0;34m)\u001b[0m\u001b[0;34m,\u001b[0m \u001b[0mgx\u001b[0m\u001b[0;34m)\u001b[0m\u001b[0;34m\u001b[0m\u001b[0;34m\u001b[0m\u001b[0m\n\u001b[1;32m     37\u001b[0m     \u001b[0merrorInHidden\u001b[0m \u001b[0;34m=\u001b[0m \u001b[0;36m1\u001b[0m \u001b[0;34m/\u001b[0m \u001b[0;36m2\u001b[0m \u001b[0;34m*\u001b[0m \u001b[0;34m(\u001b[0m\u001b[0mnew_weight_h20\u001b[0m \u001b[0;34m-\u001b[0m \u001b[0mweight_h2o\u001b[0m\u001b[0;34m)\u001b[0m \u001b[0;34m**\u001b[0m \u001b[0;36m2\u001b[0m\u001b[0;34m\u001b[0m\u001b[0;34m\u001b[0m\u001b[0m\n\u001b[0;32m---> 38\u001b[0;31m     \u001b[0mweight_i2h\u001b[0m \u001b[0;34m-=\u001b[0m \u001b[0meta\u001b[0m \u001b[0;34m*\u001b[0m \u001b[0mnp\u001b[0m\u001b[0;34m.\u001b[0m\u001b[0mdot\u001b[0m\u001b[0;34m(\u001b[0m\u001b[0mfeature\u001b[0m\u001b[0;34m.\u001b[0m\u001b[0mreshape\u001b[0m\u001b[0;34m(\u001b[0m\u001b[0;36m1\u001b[0m\u001b[0;34m,\u001b[0m \u001b[0min_dim\u001b[0m\u001b[0;34m)\u001b[0m\u001b[0;34m,\u001b[0m \u001b[0merrorInHidden\u001b[0m\u001b[0;34m)\u001b[0m\u001b[0;34m\u001b[0m\u001b[0;34m\u001b[0m\u001b[0m\n\u001b[0m\u001b[1;32m     39\u001b[0m     \u001b[0mprint\u001b[0m\u001b[0;34m(\u001b[0m\u001b[0mweight_i2h\u001b[0m\u001b[0;34m.\u001b[0m\u001b[0mshape\u001b[0m\u001b[0;34m)\u001b[0m\u001b[0;34m\u001b[0m\u001b[0;34m\u001b[0m\u001b[0m\n\u001b[1;32m     40\u001b[0m \u001b[0;34m\u001b[0m\u001b[0m\n",
      "\u001b[0;31mValueError\u001b[0m: shapes (1,785) and (101,10) not aligned: 785 (dim 1) != 101 (dim 0)"
     ]
    }
   ],
   "source": [
    "def weight_update(feature, label, weight_i2h, weight_h2o): \n",
    "    # \"\"\"\n",
    "\t# Update the weights for a train feature.\n",
    "\t\t# Inputs:\n",
    "\t\t\t# feature: feature vector (ndarray) of a data point with 785 dimensions. Here, the feature represents a handwritten digit \n",
    "\t\t\t         # of a 28x28 pixel grayscale image, which is flattened into a 785-dimensional vector (include bias)\n",
    "\t\t\t# label: Actual label of the train feature \n",
    "\t\t\t# weight_i2h: current weights with shape (in_dim x hidden_dim) from input (feature vector) to hidden layer\n",
    "\t\t\t# weight_h2o: current weights with shape (hidden_dim x out_dim) from hidden layer to output (digit number 0-9)\n",
    "\t\t# Return: updated weight\n",
    "\t# \"\"\"\n",
    "\t######## feed forward ##################\n",
    "\t#\"\"\"compute activations at hidden layer\"\"\"\n",
    "    scores_hl = np.dot(feature.reshape(1, in_dim), weight_i2h)\n",
    "    sig_hl = expit(scores_hl)\n",
    "    hl_input[0,1:] = sig_hl\n",
    "\t\n",
    "\t#\"\"\"compute activations at output layer\"\"\"\n",
    "    scores_ol = np.dot(hl_input, weight_h2o)\n",
    "    sig_ol = expit(scores_ol)    \n",
    "\t\n",
    "\t####### Update weights ##########\n",
    "\t#\"*** YOUR CODE HERE ***\"\n",
    "    print(weight_i2h.shape)\n",
    "    print(sig_hl.shape)\n",
    "    predicted_label = np.argmax(sig_ol)\n",
    "    \n",
    "    tx = np.zeros(10)\n",
    "    tx[int(label)] = 1\n",
    "    yx = np.zeros(10)\n",
    "    yx[predicted_label] = 1\n",
    "    gx = np.array([1 / 2 * (tx - yx) ** 2])\n",
    "    \n",
    "    print(np.dot(hl_input.reshape(hidden_dim + 1, 1), gx).shape)\n",
    "    \n",
    "    new_weight_h20 = weight_h2o - eta * np.dot(hl_input.reshape(hidden_dim + 1, 1), gx)\n",
    "    errorInInput = 1 / 2 * (new_weight_h20 - weight_h2o) ** 2\n",
    "    weight_i2h -= eta * np.dot(feature.reshape(1, in_dim), errorInHidden)\n",
    "    print(weight_i2h.shape)\n",
    "\n",
    "#     feature = feature.reshape(in_dim, 1)\n",
    "# \tweight_i2h = weight_i2h + eta * feature.dot(gx)\n",
    "    \n",
    "#     weight_h2o += eta * np.dot(hl_input\n",
    "   \n",
    "      \n",
    "    return weight_i2h, weight_h2o\n",
    "weight_update(train_data[0, :], train_labels[0], weight_1, weight_2)"
   ]
  },
  {
   "cell_type": "code",
   "execution_count": 15,
   "metadata": {},
   "outputs": [],
   "source": [
    "def train(train_set, labels, weight_i2h, weight_h2o):\n",
    "    for i in range(0, train_set.shape[0]):        \n",
    "        weight_i2h, weight_h2o = weight_update(train_set[i, :], labels[i], weight_i2h, weight_h2o)        \n",
    "    return weight_i2h, weight_h2o"
   ]
  },
  {
   "cell_type": "code",
   "execution_count": 31,
   "metadata": {},
   "outputs": [],
   "source": [
    "def get_predictions(dataset, weight_i2h, weight_h2o):\n",
    "\t# \"\"\"\n",
    "\t# Calculates the predicted label for each feature in dataset.\n",
    "\t\t# Inputs:\n",
    "\t\t\t# dataset: a set of feature vectors with shape  \n",
    "\t\t\t# weight_i2h: current weights with shape (in_dim x hidden_dim) from input (feature vector) to hidden layer\n",
    "\t\t\t# weight_h2o: current weights with shape (hidden_dim x out_dim) from hidden layer to output (digit number 0-9)\n",
    "\t\t# Return: list (or ndarray) of predicted labels from given dataset\n",
    "\t# \"\"\"\n",
    "\t# \"\"\"\n",
    "\t# Hint: follow the feed forward step above (from lines 28-35) to compute activations at output layer. Then, find the label\n",
    "\t# that returns highest value of activation.\n",
    "\t# \"\"\"\n",
    "\t# \"*** YOUR CODE HERE ***\"\n",
    "    ######## feed forward ##################\n",
    "\t#\"\"\"compute activations at hidden layer\"\"\"\n",
    "    \n",
    "    scores_hl = np.dot(dataset, weight_i2h)\n",
    "    sig_hl = expit(scores_hl)\n",
    "    hl_inputs = np.zeros((dataset.shape[0],hidden_dim+1))\n",
    "    hl_inputs[:, 0] = 1\n",
    "    hl_inputs[:, 1:] = sig_hl\n",
    "\t\n",
    "\t#\"\"\"compute activations at output layer\"\"\"\n",
    "    scores_ol = np.dot(hl_inputs, weight_h2o)\n",
    "    sig_ol = np.argmax(expit(scores_ol), axis = 1)\n",
    "    return sig_ol"
   ]
  },
  {
   "cell_type": "code",
   "execution_count": 21,
   "metadata": {},
   "outputs": [
    {
     "name": "stdout",
     "output_type": "stream",
     "text": [
      "(60000, 785)\n",
      "(10000, 785)\n",
      "(785, 100)\n",
      "(101, 10)\n"
     ]
    }
   ],
   "source": [
    "print(train_data.shape)\n",
    "print(test_data.shape)\n",
    "print(weight_1.shape)\n",
    "print(weight_2.shape)\n",
    "in_dim = 785\n",
    "hidden_dim = 100\n",
    "out_dim = 10"
   ]
  },
  {
   "cell_type": "code",
   "execution_count": 34,
   "metadata": {},
   "outputs": [
    {
     "name": "stdout",
     "output_type": "stream",
     "text": [
      "(10,)\n",
      "(10, 1)\n"
     ]
    }
   ],
   "source": [
    "a = np.zeros(10)\n",
    "print(a.shape)\n",
    "a = a.reshape(10, 1)\n",
    "print(a.shape)"
   ]
  },
  {
   "cell_type": "code",
   "execution_count": null,
   "metadata": {},
   "outputs": [],
   "source": []
  }
 ],
 "metadata": {
  "kernelspec": {
   "display_name": "Python 3",
   "language": "python",
   "name": "python3"
  },
  "language_info": {
   "codemirror_mode": {
    "name": "ipython",
    "version": 3
   },
   "file_extension": ".py",
   "mimetype": "text/x-python",
   "name": "python",
   "nbconvert_exporter": "python",
   "pygments_lexer": "ipython3",
   "version": "3.7.3"
  }
 },
 "nbformat": 4,
 "nbformat_minor": 2
}
